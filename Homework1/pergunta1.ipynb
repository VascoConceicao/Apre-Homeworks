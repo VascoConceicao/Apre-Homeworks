{
 "cells": [
  {
   "cell_type": "markdown",
   "id": "f6a4f100-dcab-42a4-b016-1e8d8a990dcd",
   "metadata": {},
   "source": [
    "Como os cálculos para este tipo de exercícios são algo extensivos e podem dar aso a erro, utilizámos python para computar a entropia e o ganho de informação para um dado conjunto de dados.  \n",
    "Carregamos os dados desta forma. Se quisermos tirar ou adicionar instâncias é só comentar/descomentar as linhas onde figuram.  \n",
    "A classe (yout) é a primeira (índice 0)."
   ]
  },
  {
   "cell_type": "code",
   "execution_count": 37,
   "id": "51b220ac-68df-468e-a009-e832353d9c7f",
   "metadata": {},
   "outputs": [],
   "source": [
    "data  = []\n",
    "# data += [[\"C\", 0.22, 2, 0, 1]]\n",
    "# data += [[\"B\", 0.06, 0, 0, 0]]\n",
    "# data += [[\"C\", 0.16, 1, 2, 2]]\n",
    "# data += [[\"B\", 0.21, 0, 0, 0]]\n",
    "data += [[\"C\", 0.01, 2, 2, 0]]\n",
    "data += [[\"B\", 0.3 , 0, 1, 0]]\n",
    "data += [[\"A\", 0.76, 0, 1, 1]]\n",
    "data += [[\"A\", 0.86, 1, 0, 0]]\n",
    "data += [[\"C\", 0.93, 0, 1, 1]]\n",
    "data += [[\"C\", 0.47, 0, 1, 1]]\n",
    "data += [[\"A\", 0.73, 1, 0, 0]]\n",
    "data += [[\"B\", 0.89, 1, 2, 0]]"
   ]
  },
  {
   "cell_type": "markdown",
   "id": "35f5130e-d993-4d78-b12d-dbc30bb7218b",
   "metadata": {},
   "source": [
    "Calculamos a entropia da variável yi como se segue:  "
   ]
  },
  {
   "cell_type": "code",
   "execution_count": 40,
   "id": "e2343d98-9b46-4cc2-accd-bbc4fd3acd21",
   "metadata": {},
   "outputs": [],
   "source": [
    "import math\n",
    "\n",
    "def entropy(data, i):\n",
    "    \n",
    "    hist = []\n",
    "    for instance in data:\n",
    "        found = False\n",
    "        for pair in hist:\n",
    "            value = pair[0]\n",
    "            count = pair[1]\n",
    "            if instance[i] == value:\n",
    "                pair[1] += 1\n",
    "                found = True\n",
    "        if not found:\n",
    "            hist += [[instance[i], 1]]\n",
    "\n",
    "    total = len(data)\n",
    "\n",
    "    entr = 0\n",
    "    for pair in hist:\n",
    "        entr -= pair[1]/total * math.log(pair[1]/total, 2)\n",
    "\n",
    "    return entr"
   ]
  },
  {
   "cell_type": "markdown",
   "id": "f0487a51-e12a-47a3-858f-f396609e6869",
   "metadata": {},
   "source": [
    "Calculamos a entropia da variável yi em relação à variável ycond da seguinte forma: "
   ]
  },
  {
   "cell_type": "code",
   "execution_count": 43,
   "id": "a355d043-3bd0-4569-9cd9-9539176c8175",
   "metadata": {},
   "outputs": [],
   "source": [
    "def entropy_cond(data, i, cond):\n",
    "\n",
    "    hist = []\n",
    "    for j in range(len(data)):\n",
    "        found = False\n",
    "        for pair in hist:\n",
    "            value = pair[0]\n",
    "            count = pair[1]\n",
    "            if data[j][cond] == value:\n",
    "                pair[1] += [j]\n",
    "                found = True\n",
    "        if not found:\n",
    "            hist += [[data[j][cond], [j]]]\n",
    "    \n",
    "    total = len(data)\n",
    "\n",
    "    entr = 0\n",
    "    for pair in hist:\n",
    "        data_subset = []\n",
    "        for j in pair[1]:\n",
    "            data_subset += [data[j]]\n",
    "        entr += len(pair[1])/total * entropy(data_subset, i)\n",
    "\n",
    "    return entr"
   ]
  },
  {
   "cell_type": "markdown",
   "id": "a5d0a490-ce87-4a8a-a7a8-8adfd0014d0a",
   "metadata": {},
   "source": [
    "Já temos tudo o que é preciso para calcular o ganho de informação da variável yi.  \n",
    "Como variáveis discretas e contínuas se calculam de maneiras diferentes, temos duas versões.  \n",
    "Em information_gain_cont tem-se em conta todos os modos de dividir a variável contínua em dois grupos e escolhe-se o modo com maior ganho de informação."
   ]
  },
  {
   "cell_type": "code",
   "execution_count": 46,
   "id": "522a85a6-0460-4075-b836-09f452dbc9cc",
   "metadata": {},
   "outputs": [],
   "source": [
    "def information_gain(data, i):\n",
    "    return entropy(data, 0) - entropy_cond(data, 0, i)\n",
    "\n",
    "def information_gain_cont(data, i):\n",
    "    \n",
    "    max_ig = 0\n",
    "    cut = 0\n",
    "    data = sorted(data, key=lambda x: x[i])\n",
    "    for j in range(1, len(data)):\n",
    "        if data[j - 1][i] != data[j][i]:\n",
    "            data_subset1 = data[:j]\n",
    "            data_subset2 = data[j:]\n",
    "            entr = j / len(data) * entropy(data_subset1, 0) + (len(data) - j) / len(data) * entropy(data_subset2, 0)\n",
    "            ig = entropy(data, 0) - entr\n",
    "            if ig > max_ig:\n",
    "                max_ig = ig\n",
    "                cut = (data[j][i] + data[j - 1][i]) / 2\n",
    "\n",
    "    return max_ig, cut"
   ]
  },
  {
   "cell_type": "markdown",
   "id": "b471d798-e2e6-49b7-bd90-43a12fb8a992",
   "metadata": {},
   "source": [
    "Agora basta chamar as funções e observar os resultados."
   ]
  },
  {
   "cell_type": "code",
   "execution_count": 49,
   "id": "6cecf037-4eda-4258-8c7d-d639f770309b",
   "metadata": {},
   "outputs": [
    {
     "name": "stdout",
     "output_type": "stream",
     "text": [
      "IG(y1) = (0.36, 0.6)\n",
      "IG(y2) = 0.467\n",
      "IG(y3) = 0.561\n",
      "IG(y4) = 0.266\n"
     ]
    }
   ],
   "source": [
    "print(f\"IG(y{1}) = {round(information_gain_cont(data, 1)[0], 3), information_gain_cont(data, 1)[1]}\")\n",
    "for i in [2, 3, 4]:\n",
    "    print(f\"IG(y{i}) = {round(information_gain(data, i), 3)}\")"
   ]
  },
  {
   "cell_type": "markdown",
   "id": "8108fa01-f73c-4575-8b60-79d6daba740d",
   "metadata": {},
   "source": [
    "Como y3 tem ganho de informação maior, escolhe-se a variável y3.  \n",
    "Observemos o subconjunto de dados depois da escolha y3 = 1."
   ]
  },
  {
   "cell_type": "code",
   "execution_count": 78,
   "id": "131cef9b-26d6-49b3-b457-782bd0e93e59",
   "metadata": {},
   "outputs": [
    {
     "name": "stdout",
     "output_type": "stream",
     "text": [
      "1.5\n",
      "IG(y1) = (0.811, 0.385)\n",
      "IG(y2) = 0.0\n",
      "IG(y3) = 0.0\n",
      "IG(y4) = 0.811\n"
     ]
    }
   ],
   "source": [
    "data  = []\n",
    "# data += [[\"C\", 0.22, 2, 0, 1]]\n",
    "# data += [[\"B\", 0.06, 0, 0, 0]]\n",
    "# data += [[\"C\", 0.16, 1, 2, 2]]\n",
    "# data += [[\"B\", 0.21, 0, 0, 0]]\n",
    "#data += [[\"C\", 0.01, 2, 2, 0]]\n",
    "data += [[\"B\", 0.3 , 0, 1, 0]]\n",
    "data += [[\"A\", 0.76, 0, 1, 1]]\n",
    "# data += [[\"A\", 0.86, 1, 0, 0]]\n",
    "data += [[\"C\", 0.93, 0, 1, 1]]\n",
    "data += [[\"C\", 0.47, 0, 1, 1]]\n",
    "# data += [[\"A\", 0.73, 1, 0, 0]]\n",
    "# data += [[\"B\", 0.89, 1, 2, 0]]\n",
    "\n",
    "print(entropy(data, 0))\n",
    "\n",
    "print(f\"IG(y{1}) = {round(information_gain_cont(data, 1)[0], 3), information_gain_cont(data, 1)[1]}\")\n",
    "for i in [2, 3, 4]:\n",
    "    print(f\"IG(y{i}) = {round(information_gain(data, i), 3)}\")"
   ]
  },
  {
   "cell_type": "markdown",
   "id": "1b536df4-6749-4a27-8a82-a26b861102a1",
   "metadata": {},
   "source": [
    "Como y1 e y4 têm ambos ganho de informação igual, escolhe-se por ordem alfabética y1, com corte em 0.385."
   ]
  },
  {
   "cell_type": "code",
   "execution_count": null,
   "id": "e6a516af-a0b7-4419-8f84-971becd2acbe",
   "metadata": {},
   "outputs": [],
   "source": []
  }
 ],
 "metadata": {
  "kernelspec": {
   "display_name": "Python 3 (ipykernel)",
   "language": "python",
   "name": "python3"
  },
  "language_info": {
   "codemirror_mode": {
    "name": "ipython",
    "version": 3
   },
   "file_extension": ".py",
   "mimetype": "text/x-python",
   "name": "python",
   "nbconvert_exporter": "python",
   "pygments_lexer": "ipython3",
   "version": "3.12.4"
  }
 },
 "nbformat": 4,
 "nbformat_minor": 5
}
